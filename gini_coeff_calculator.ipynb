{
 "cells": [
  {
   "cell_type": "code",
   "execution_count": 1,
   "metadata": {},
   "outputs": [],
   "source": [
    "import numpy as np"
   ]
  },
  {
   "cell_type": "code",
   "execution_count": 6,
   "metadata": {},
   "outputs": [],
   "source": [
    "def gini(x):\n",
    "    total = 0\n",
    "    for i, xi in enumerate(x[:-1], 1):\n",
    "        total += np.sum(np.abs(xi-x[i:]))\n",
    "    return total / (len(x) ** 2 * np.mean(x))"
   ]
  },
  {
   "cell_type": "code",
   "execution_count": 60,
   "metadata": {},
   "outputs": [],
   "source": [
    "vals1 = np.array([13, 18, 26, 35, 22, 23, 15, 15])\n",
    "vals2 = np.array([13, 21, 26, 34, 24, 17, 15, 15])\n",
    "vals3 = np.array([13, 18, 26, 33, 30, 24, 15, 15])\n",
    "vals4 = np.array([13, 18, 28, 40, 30, 21, 15, 15])\n",
    "vals5 = np.array([13, 19, 27, 38, 22, 19, 15, 15])"
   ]
  },
  {
   "cell_type": "code",
   "execution_count": 61,
   "metadata": {},
   "outputs": [
    {
     "name": "stdout",
     "output_type": "stream",
     "text": [
      "0.17739520958083832\n",
      "0.1765151515151515\n",
      "0.1824712643678161\n",
      "0.2125\n",
      "0.19047619047619047\n",
      "0.1878715631879993\n"
     ]
    }
   ],
   "source": [
    "print(gini(vals1))\n",
    "print(gini(vals2))\n",
    "print(gini(vals3))\n",
    "print(gini(vals4))\n",
    "print(gini(vals5))\n",
    "print((gini(vals1) + gini(vals2) + gini(vals3) + gini(vals4) + gini(vals5))/5)"
   ]
  },
  {
   "cell_type": "code",
   "execution_count": 62,
   "metadata": {},
   "outputs": [
    {
     "name": "stdout",
     "output_type": "stream",
     "text": [
      "0.13125\n"
     ]
    }
   ],
   "source": [
    "linevals = np.array([13, 15, 17, 19, 21, 23, 25, 27])\n",
    "print(gini(linevals))"
   ]
  },
  {
   "cell_type": "code",
   "execution_count": null,
   "metadata": {},
   "outputs": [],
   "source": []
  }
 ],
 "metadata": {
  "kernelspec": {
   "display_name": "Python 3",
   "language": "python",
   "name": "python3"
  },
  "language_info": {
   "codemirror_mode": {
    "name": "ipython",
    "version": 3
   },
   "file_extension": ".py",
   "mimetype": "text/x-python",
   "name": "python",
   "nbconvert_exporter": "python",
   "pygments_lexer": "ipython3",
   "version": "3.8.3"
  }
 },
 "nbformat": 4,
 "nbformat_minor": 4
}
